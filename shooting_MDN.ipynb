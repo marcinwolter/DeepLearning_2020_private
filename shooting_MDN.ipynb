{
  "nbformat": 4,
  "nbformat_minor": 0,
  "metadata": {
    "colab": {
      "name": "shooting-MDN.ipynb",
      "provenance": [],
      "collapsed_sections": [],
      "include_colab_link": true
    },
    "language_info": {
      "codemirror_mode": {
        "name": "ipython",
        "version": 3
      },
      "file_extension": ".py",
      "mimetype": "text/x-python",
      "name": "python",
      "nbconvert_exporter": "python",
      "pygments_lexer": "ipython3",
      "version": "3.6.5"
    },
    "kernelspec": {
      "name": "python3",
      "display_name": "Python 3"
    },
    "accelerator": "GPU"
  },
  "cells": [
    {
      "cell_type": "markdown",
      "metadata": {
        "id": "view-in-github",
        "colab_type": "text"
      },
      "source": [
        "<a href=\"https://colab.research.google.com/github/marcinwolter/DeepLearning_2020_private/blob/main/shooting_MDN.ipynb\" target=\"_parent\"><img src=\"https://colab.research.google.com/assets/colab-badge.svg\" alt=\"Open In Colab\"/></a>"
      ]
    },
    {
      "cell_type": "markdown",
      "metadata": {
        "id": "e-GI2H1ELDZQ"
      },
      "source": [
        "# Shoot the cannon\n",
        "\n",
        "The position of the cannon is decoded from the 64x64 pixel image (convolutional network should be used). The cannon shoots and the hit point is smeared by some not neceserily gaussian probability (could be two gaussians with different means).\n",
        "The task is to design the MDN network to find the probability of the hit position.\n",
        "\n",
        "\n",
        "# Mixture Density Network\n",
        "\n",
        "Reproducing the classic Bishop MDN network tasks in Keras. The idea in this task is to predict a the value of an inverse sine function. This function has multiple real-valued solutions at each point, so the ANN model needs to have the capacity to handle this in it's loss function. An MDN is a good way to handle the predictions of these multiple output values.\n",
        "\n",
        "There's a couple of other versions of this task, and this implementation owes much to the following:\n",
        "\n",
        "- [David Ha - Mixture Density Networks with TensorFlow](http://blog.otoro.net/2015/11/24/mixture-density-networks-with-tensorflow/)\n",
        "- [Mixture Density Networks in Edward](http://edwardlib.org/tutorials/mixture-density-network)"
      ]
    },
    {
      "cell_type": "code",
      "metadata": {
        "id": "pZ2ic1BLLDZV",
        "colab": {
          "base_uri": "https://localhost:8080/"
        },
        "outputId": "f9c46106-1b21-46bb-e809-da8e92c11f48"
      },
      "source": [
        "#!pip install git+git://github.com/cpmpercussion/keras-mdn-layer.git#egg=keras-mdn-layer\n",
        "!pip install keras-mdn-layer\n",
        "###!python3 -m pip install keras-mdn-layer\n",
        "\n",
        "from tensorflow.compat.v1 import keras\n",
        "from keras.layers import Dense, Dropout, Flatten\n",
        "from keras.layers import Conv2D, MaxPooling2D\n",
        "###import keras\n",
        "import mdn\n",
        "#from context import * # imports the MDN layer \n",
        "import numpy as np\n",
        "import random\n",
        "import matplotlib.pyplot as plt\n",
        "#%matplotlib notebook"
      ],
      "execution_count": 50,
      "outputs": [
        {
          "output_type": "stream",
          "text": [
            "Requirement already satisfied: keras-mdn-layer in /usr/local/lib/python3.6/dist-packages (0.3.0)\n"
          ],
          "name": "stdout"
        }
      ]
    },
    {
      "cell_type": "markdown",
      "metadata": {
        "id": "ytpfizwKLDZf"
      },
      "source": [
        "## Generate Synthetic Data\n",
        "\n",
        "Data generation"
      ]
    },
    {
      "cell_type": "code",
      "metadata": {
        "id": "8VpAAURELDZj"
      },
      "source": [
        "PLOT_WIDTH = 64\n",
        "PLOT_DIM = (PLOT_WIDTH,PLOT_WIDTH)\n",
        "MAX_ANGLE = 0.4\n",
        "\n",
        "def generate_data(NSAMPLE=3000, scale=1., rotation_range=0.3, rotation=0):\n",
        "# NSAMPLE - number of shoots\n",
        "# scale - smearing of each gaussian\n",
        "# rotation-range - cannon can rotate in this range\n",
        "# rotation - center of the rotation range\n",
        "\n",
        "  # shooting angle\n",
        "  tan_angle = np.float32(np.random.uniform(rotation - rotation_range, rotation + rotation_range, NSAMPLE))\n",
        "  \n",
        "\n",
        "  # target shooting\n",
        "  length = 30.\n",
        "  \n",
        "  half_sample = int(NSAMPLE/2)\n",
        "\n",
        "  # Here the two-gaussian distribution is produced \n",
        "  rand1 = np.random.normal(loc=  1, scale=scale, size=half_sample)\n",
        "  rand2 = np.random.normal(loc= -1, scale=scale, size=NSAMPLE-half_sample)\n",
        "  random = np.concatenate((rand1,rand2), axis=0)\n",
        "  y_data = tan_angle*length + random\n",
        "\n",
        "\n",
        "  # generate events\n",
        "  x_data=np.zeros((NSAMPLE,PLOT_DIM[0],PLOT_DIM[1],1))\n",
        "\n",
        "  x = np.arange(start=0, stop=PLOT_WIDTH, step=1.)\n",
        "  y = npy = tan_angle * x[ :, np.newaxis]+PLOT_WIDTH/2\n",
        "\n",
        "  for i in range(NSAMPLE):\n",
        "    for j in range(2,PLOT_WIDTH-2):\n",
        "      x_data[i,int(y[j,i]),j] = 1.\n",
        "\n",
        "  # normalize y_data\n",
        "  y_data = y_data/(MAX_ANGLE*length)\n",
        "  x_data = x_data.reshape(NSAMPLE,PLOT_WIDTH,PLOT_WIDTH,1)\n",
        "\n",
        "  # plot the generated distribution\n",
        "  #plt.hist(y_data, density=True, bins=30,  alpha=0.5, label='train data') \n",
        "  #plt.show()\n",
        "\n",
        "  return x_data, y_data\n",
        "\n"
      ],
      "execution_count": 51,
      "outputs": []
    },
    {
      "cell_type": "code",
      "metadata": {
        "colab": {
          "base_uri": "https://localhost:8080/",
          "height": 904
        },
        "id": "_5lZynmLddWd",
        "outputId": "25518994-e402-4273-d376-6a60a9849840"
      },
      "source": [
        "## Generating some data:\n",
        "NSAMPLE = 10000\n",
        "SCALE = 0.1\n",
        "\n",
        "x_data, y_data = generate_data(NSAMPLE=NSAMPLE, scale=SCALE, rotation_range=0.3)\n",
        "\n",
        "fig = plt.figure(figsize=(4, 16))\n",
        "\n",
        "# plot first ten events\n",
        "for n in range(10):\n",
        "  ax = fig.add_subplot(10, 2, 2*n + 1, xticks=[], yticks=[])\n",
        "  ax.imshow(x_data[n].reshape(PLOT_WIDTH,PLOT_WIDTH), interpolation='nearest')\n",
        "  ax = fig.add_subplot(10, 2, 2*n + 2, xticks=[], yticks=[])\n",
        "  ax.plot([0],[-y_data[n]], 'ro',)\n",
        "  plt.ylim([-1, 1])\n",
        "  plt.xlim([-1, 1])\n",
        "\n",
        "plt.show()\n"
      ],
      "execution_count": 52,
      "outputs": [
        {
          "output_type": "display_data",
          "data": {
            "image/png": "[encoded data removed]",
            "text/plain": [
              "<Figure size 288x1152 with 20 Axes>"
            ]
          },
          "metadata": {
            "tags": []
          }
        }
      ]
    },
    {
      "cell_type": "markdown",
      "metadata": {
        "id": "UkfBXIcjLDZt"
      },
      "source": [
        "## Build the MDN Model\n",
        "\n",
        "Now we will construct the MDN model in Keras. This uses the `Sequential` model interface in Keras.\n",
        "\n",
        "The `MDN` layer comes after one or more `Dense` layers. You need to define the output dimension and number of mixtures for the MDN like so: `MDN(output_dimension, number_mixtures)`.\n",
        "\n",
        "\n",
        "\n",
        "For MDNs, we have to use a special loss function that can handle the mixture parameters: the function has to take into account the number of output dimensions and mixtures."
      ]
    },
    {
      "cell_type": "code",
      "metadata": {
        "id": "X6IJ9t0RLDZu",
        "colab": {
          "base_uri": "https://localhost:8080/"
        },
        "outputId": "8531403d-87c3-496f-ea41-b9c2e8565c47"
      },
      "source": [
        "N_HIDDEN = 32\n",
        "N_MIXES = 2  #5\n",
        "\n",
        "print(x_data.shape)\n",
        "\n",
        "model = keras.Sequential()\n",
        "\n",
        "# convolutional network\n",
        "model.add(Conv2D(32, kernel_size=(3, 3),\n",
        "                 activation='relu',\n",
        "                 input_shape=(PLOT_WIDTH,PLOT_WIDTH,1)))\n",
        "model.add(Conv2D(64, (3, 3), activation='relu'))\n",
        "model.add(MaxPooling2D(pool_size=(2, 2)))\n",
        "model.add(Dropout(0.25))\n",
        "model.add(Conv2D(64, kernel_size=(3, 3),\n",
        "                 activation='relu'))\n",
        "model.add(Conv2D(64, (3, 3), activation='relu'))\n",
        "model.add(MaxPooling2D(pool_size=(2, 2)))\n",
        "model.add(Dropout(0.25))\n",
        "model.add(Flatten())\n",
        "model.add(Dense(128, activation='relu'))\n",
        "model.add(Dense(128, activation='relu'))\n",
        "#model.add(Dropout(0.5))\n",
        "'''\n",
        "# fully connected network\n",
        "model.add(Flatten(batch_input_shape=(None, PLOT_WIDTH*PLOT_WIDTH,1)) )\n",
        "model.add(Dense(N_HIDDEN, activation='relu'))\n",
        "model.add(Dense(N_HIDDEN, activation='relu'))\n",
        "model.add(Dropout(0.2))\n",
        "\n",
        "model.add(Dense(N_HIDDEN, activation='relu'))\n",
        "model.add(Dense(N_HIDDEN, activation='relu'))\n",
        "model.add(Dropout(0.2))\n",
        "\n",
        "model.add(Dense(N_HIDDEN, activation='relu'))\n",
        "'''\n",
        "#model.add(keras.layers.Dense(1))\n",
        "model.add(mdn.MDN(1, N_MIXES))\n",
        "\n",
        "# RMSprop() optimizer is used (adam was slightly unstable)\n",
        "#model.compile(loss=\"mean_squared_error\", optimizer=keras.optimizers.RMSprop() )\n",
        "model.compile(loss=mdn.get_mixture_loss_func(1,N_MIXES), optimizer=keras.optimizers.RMSprop(), metrics=[mdn.get_mixture_mse_accuracy(1,N_MIXES)]) #, metrics=[mdn.get_mixture_mse_accuracy(1,N_MIXES)])\n",
        "model.summary()"
      ],
      "execution_count": 53,
      "outputs": [
        {
          "output_type": "stream",
          "text": [
            "(10000, 64, 64, 1)\n",
            "Model: \"sequential_3\"\n",
            "_________________________________________________________________\n",
            "Layer (type)                 Output Shape              Param #   \n",
            "=================================================================\n",
            "conv2d_12 (Conv2D)           (None, 62, 62, 32)        320       \n",
            "_________________________________________________________________\n",
            "conv2d_13 (Conv2D)           (None, 60, 60, 64)        18496     \n",
            "_________________________________________________________________\n",
            "max_pooling2d_6 (MaxPooling2 (None, 30, 30, 64)        0         \n",
            "_________________________________________________________________\n",
            "dropout_6 (Dropout)          (None, 30, 30, 64)        0         \n",
            "_________________________________________________________________\n",
            "conv2d_14 (Conv2D)           (None, 28, 28, 64)        36928     \n",
            "_________________________________________________________________\n",
            "conv2d_15 (Conv2D)           (None, 26, 26, 64)        36928     \n",
            "_________________________________________________________________\n",
            "max_pooling2d_7 (MaxPooling2 (None, 13, 13, 64)        0         \n",
            "_________________________________________________________________\n",
            "dropout_7 (Dropout)          (None, 13, 13, 64)        0         \n",
            "_________________________________________________________________\n",
            "flatten_3 (Flatten)          (None, 10816)             0         \n",
            "_________________________________________________________________\n",
            "dense_6 (Dense)              (None, 128)               1384576   \n",
            "_________________________________________________________________\n",
            "dense_7 (Dense)              (None, 128)               16512     \n",
            "_________________________________________________________________\n",
            "mdn_3 (MDN)                  (None, 6)                 774       \n",
            "=================================================================\n",
            "Total params: 1,494,534\n",
            "Trainable params: 1,494,534\n",
            "Non-trainable params: 0\n",
            "_________________________________________________________________\n"
          ],
          "name": "stdout"
        }
      ]
    },
    {
      "cell_type": "markdown",
      "metadata": {
        "id": "DbpCyfycLDZ1"
      },
      "source": [
        "### Training the model\n",
        "\n",
        "Now we train the model using Keras' normal `fit` command."
      ]
    },
    {
      "cell_type": "code",
      "metadata": {
        "id": "DklknLO6LDZ3",
        "colab": {
          "base_uri": "https://localhost:8080/"
        },
        "outputId": "959fa69e-180a-4126-e2fa-f15a2162ee3d"
      },
      "source": [
        "history = model.fit(x=x_data, y=y_data, batch_size=128, epochs=100, validation_split=0.2)"
      ],
      "execution_count": 54,
      "outputs": [
        {
          "output_type": "stream",
          "text": [
            "Epoch 1/100\n",
            "63/63 [==============================] - 5s 54ms/step - loss: 1890.5134 - mse_func: 0.6693 - val_loss: -0.7252 - val_mse_func: 0.0756\n",
            "Epoch 2/100\n",
            "63/63 [==============================] - 3s 44ms/step - loss: -0.8402 - mse_func: 0.0357 - val_loss: 0.0448 - val_mse_func: 0.0679\n",
            "Epoch 3/100\n",
            "63/63 [==============================] - 3s 44ms/step - loss: -0.4148 - mse_func: 0.0577 - val_loss: 0.2027 - val_mse_func: 0.2680\n",
            "Epoch 4/100\n",
            "63/63 [==============================] - 3s 44ms/step - loss: 0.0964 - mse_func: 0.1965 - val_loss: 0.3577 - val_mse_func: 0.3344\n",
            "Epoch 5/100\n",
            "63/63 [==============================] - 3s 44ms/step - loss: -0.0139 - mse_func: 0.1733 - val_loss: -0.4341 - val_mse_func: 0.0750\n",
            "Epoch 6/100\n",
            "63/63 [==============================] - 3s 44ms/step - loss: -0.3198 - mse_func: 0.0856 - val_loss: -0.7580 - val_mse_func: 0.0405\n",
            "Epoch 7/100\n",
            "63/63 [==============================] - 3s 44ms/step - loss: -0.4739 - mse_func: 0.0571 - val_loss: -0.1181 - val_mse_func: 0.1134\n",
            "Epoch 8/100\n",
            "63/63 [==============================] - 3s 44ms/step - loss: -0.4793 - mse_func: 0.0576 - val_loss: -0.1566 - val_mse_func: 0.0228\n",
            "Epoch 9/100\n",
            "63/63 [==============================] - 3s 44ms/step - loss: -0.6787 - mse_func: 0.0342 - val_loss: -0.9095 - val_mse_func: 0.0197\n",
            "Epoch 10/100\n",
            "63/63 [==============================] - 3s 44ms/step - loss: -0.8403 - mse_func: 0.0259 - val_loss: -0.8441 - val_mse_func: 0.0177\n",
            "Epoch 11/100\n",
            "63/63 [==============================] - 3s 44ms/step - loss: -0.8609 - mse_func: 0.0233 - val_loss: 1.0663 - val_mse_func: 0.0400\n",
            "Epoch 12/100\n",
            "63/63 [==============================] - 3s 44ms/step - loss: -0.7912 - mse_func: 0.0273 - val_loss: -0.8221 - val_mse_func: 0.0225\n",
            "Epoch 13/100\n",
            "63/63 [==============================] - 3s 44ms/step - loss: -0.9219 - mse_func: 0.0202 - val_loss: -0.8165 - val_mse_func: 0.0204\n",
            "Epoch 14/100\n",
            "63/63 [==============================] - 3s 47ms/step - loss: -0.9098 - mse_func: 0.0211 - val_loss: -0.3447 - val_mse_func: 0.0423\n",
            "Epoch 15/100\n",
            "63/63 [==============================] - 3s 44ms/step - loss: -0.8749 - mse_func: 0.0220 - val_loss: -1.0214 - val_mse_func: 0.0126\n",
            "Epoch 16/100\n",
            "63/63 [==============================] - 3s 44ms/step - loss: -0.8787 - mse_func: 0.0216 - val_loss: -0.7882 - val_mse_func: 0.0222\n",
            "Epoch 17/100\n",
            "63/63 [==============================] - 3s 44ms/step - loss: -0.9739 - mse_func: 0.0174 - val_loss: -0.8533 - val_mse_func: 0.0209\n",
            "Epoch 18/100\n",
            "63/63 [==============================] - 3s 44ms/step - loss: -0.9723 - mse_func: 0.0192 - val_loss: -0.7870 - val_mse_func: 0.0209\n",
            "Epoch 19/100\n",
            "63/63 [==============================] - 3s 44ms/step - loss: -0.9670 - mse_func: 0.0188 - val_loss: -0.3284 - val_mse_func: 0.0340\n",
            "Epoch 20/100\n",
            "63/63 [==============================] - 3s 44ms/step - loss: -0.9791 - mse_func: 0.0183 - val_loss: -1.1580 - val_mse_func: 0.0127\n",
            "Epoch 21/100\n",
            "63/63 [==============================] - 3s 44ms/step - loss: -1.0128 - mse_func: 0.0185 - val_loss: -0.3370 - val_mse_func: 0.0323\n",
            "Epoch 22/100\n",
            "63/63 [==============================] - 3s 44ms/step - loss: -1.0114 - mse_func: 0.0178 - val_loss: -0.6254 - val_mse_func: 0.0267\n",
            "Epoch 23/100\n",
            "63/63 [==============================] - 3s 44ms/step - loss: -0.9951 - mse_func: 0.0177 - val_loss: -1.2785 - val_mse_func: 0.0117\n",
            "Epoch 24/100\n",
            "63/63 [==============================] - 3s 44ms/step - loss: -0.9877 - mse_func: 0.0167 - val_loss: -1.0063 - val_mse_func: 0.0209\n",
            "Epoch 25/100\n",
            "63/63 [==============================] - 3s 44ms/step - loss: -1.0056 - mse_func: 0.0171 - val_loss: -0.2422 - val_mse_func: 0.0216\n",
            "Epoch 26/100\n",
            "63/63 [==============================] - 3s 44ms/step - loss: -1.0304 - mse_func: 0.0183 - val_loss: -0.6433 - val_mse_func: 0.0198\n",
            "Epoch 27/100\n",
            "63/63 [==============================] - 3s 44ms/step - loss: -1.0125 - mse_func: 0.0200 - val_loss: -0.6231 - val_mse_func: 0.0287\n",
            "Epoch 28/100\n",
            "63/63 [==============================] - 3s 44ms/step - loss: -1.0554 - mse_func: 0.0198 - val_loss: -1.0438 - val_mse_func: 0.0212\n",
            "Epoch 29/100\n",
            "63/63 [==============================] - 3s 44ms/step - loss: -1.1111 - mse_func: 0.0186 - val_loss: -1.2451 - val_mse_func: 0.0204\n",
            "Epoch 30/100\n",
            "63/63 [==============================] - 3s 44ms/step - loss: -1.1442 - mse_func: 0.0167 - val_loss: -0.4446 - val_mse_func: 0.0405\n",
            "Epoch 31/100\n",
            "63/63 [==============================] - 3s 44ms/step - loss: -1.0169 - mse_func: 0.0207 - val_loss: -0.7958 - val_mse_func: 0.0251\n",
            "Epoch 32/100\n",
            "63/63 [==============================] - 3s 44ms/step - loss: -1.1438 - mse_func: 0.0186 - val_loss: -0.9686 - val_mse_func: 0.0232\n",
            "Epoch 33/100\n",
            "63/63 [==============================] - 3s 44ms/step - loss: -1.1803 - mse_func: 0.0175 - val_loss: -1.1218 - val_mse_func: 0.0182\n",
            "Epoch 34/100\n",
            "63/63 [==============================] - 3s 44ms/step - loss: -1.0565 - mse_func: 0.0180 - val_loss: -0.5414 - val_mse_func: 0.0359\n",
            "Epoch 35/100\n",
            "63/63 [==============================] - 3s 44ms/step - loss: -0.9614 - mse_func: 0.0180 - val_loss: -0.9303 - val_mse_func: 0.0245\n",
            "Epoch 36/100\n",
            "63/63 [==============================] - 3s 44ms/step - loss: -1.2608 - mse_func: 0.0165 - val_loss: -0.9298 - val_mse_func: 0.0234\n",
            "Epoch 37/100\n",
            "63/63 [==============================] - 3s 44ms/step - loss: -1.2395 - mse_func: 0.0161 - val_loss: -0.8858 - val_mse_func: 0.0277\n",
            "Epoch 38/100\n",
            "63/63 [==============================] - 3s 44ms/step - loss: -1.3402 - mse_func: 0.0158 - val_loss: -0.9171 - val_mse_func: 0.0176\n",
            "Epoch 39/100\n",
            "63/63 [==============================] - 3s 44ms/step - loss: -1.3296 - mse_func: 0.0152 - val_loss: -1.4950 - val_mse_func: 0.0167\n",
            "Epoch 40/100\n",
            "63/63 [==============================] - 3s 44ms/step - loss: -1.3944 - mse_func: 0.0150 - val_loss: -1.1654 - val_mse_func: 0.0195\n",
            "Epoch 41/100\n",
            "63/63 [==============================] - 3s 44ms/step - loss: -1.3419 - mse_func: 0.0156 - val_loss: -0.9763 - val_mse_func: 0.0217\n",
            "Epoch 42/100\n",
            "63/63 [==============================] - 3s 44ms/step - loss: -1.4236 - mse_func: 0.0153 - val_loss: -1.2310 - val_mse_func: 0.0196\n",
            "Epoch 43/100\n",
            "63/63 [==============================] - 3s 44ms/step - loss: -1.5019 - mse_func: 0.0145 - val_loss: -1.5715 - val_mse_func: 0.0172\n",
            "Epoch 44/100\n",
            "63/63 [==============================] - 3s 44ms/step - loss: -1.5109 - mse_func: 0.0147 - val_loss: -1.3059 - val_mse_func: 0.0198\n",
            "Epoch 45/100\n",
            "63/63 [==============================] - 3s 44ms/step - loss: -1.3950 - mse_func: 0.0154 - val_loss: -1.4002 - val_mse_func: 0.0196\n",
            "Epoch 46/100\n",
            "63/63 [==============================] - 3s 44ms/step - loss: -1.2469 - mse_func: 0.0152 - val_loss: -1.7529 - val_mse_func: 0.0179\n",
            "Epoch 47/100\n",
            "63/63 [==============================] - 3s 44ms/step - loss: -1.4676 - mse_func: 0.0148 - val_loss: -1.5274 - val_mse_func: 0.0177\n",
            "Epoch 48/100\n",
            "63/63 [==============================] - 3s 44ms/step - loss: -1.4784 - mse_func: 0.0153 - val_loss: -1.2867 - val_mse_func: 0.0150\n",
            "Epoch 49/100\n",
            "63/63 [==============================] - 3s 44ms/step - loss: -1.3847 - mse_func: 0.0147 - val_loss: -1.5290 - val_mse_func: 0.0191\n",
            "Epoch 50/100\n",
            "63/63 [==============================] - 3s 44ms/step - loss: -1.5524 - mse_func: 0.0146 - val_loss: -1.3968 - val_mse_func: 0.0179\n",
            "Epoch 51/100\n",
            "63/63 [==============================] - 3s 44ms/step - loss: -1.5908 - mse_func: 0.0143 - val_loss: -1.2460 - val_mse_func: 0.0148\n",
            "Epoch 52/100\n",
            "63/63 [==============================] - 3s 44ms/step - loss: -1.3873 - mse_func: 0.0149 - val_loss: -0.8566 - val_mse_func: 0.0364\n",
            "Epoch 53/100\n",
            "63/63 [==============================] - 3s 44ms/step - loss: -1.5146 - mse_func: 0.0151 - val_loss: 0.1818 - val_mse_func: 0.0108\n",
            "Epoch 54/100\n",
            "63/63 [==============================] - 3s 44ms/step - loss: -1.4724 - mse_func: 0.0149 - val_loss: -1.9072 - val_mse_func: 0.0202\n",
            "Epoch 55/100\n",
            "63/63 [==============================] - 3s 44ms/step - loss: -1.4219 - mse_func: 0.0152 - val_loss: -1.8702 - val_mse_func: 0.0176\n",
            "Epoch 56/100\n",
            "63/63 [==============================] - 3s 44ms/step - loss: -1.6678 - mse_func: 0.0140 - val_loss: -1.2563 - val_mse_func: 0.0176\n",
            "Epoch 57/100\n",
            "63/63 [==============================] - 3s 44ms/step - loss: -1.6406 - mse_func: 0.0141 - val_loss: -1.6768 - val_mse_func: 0.0175\n",
            "Epoch 58/100\n",
            "63/63 [==============================] - 3s 44ms/step - loss: -1.6771 - mse_func: 0.0143 - val_loss: -1.7642 - val_mse_func: 0.0189\n",
            "Epoch 59/100\n",
            "63/63 [==============================] - 3s 44ms/step - loss: -1.6217 - mse_func: 0.0145 - val_loss: -1.7409 - val_mse_func: 0.0182\n",
            "Epoch 60/100\n",
            "63/63 [==============================] - 3s 44ms/step - loss: -1.7459 - mse_func: 0.0137 - val_loss: -1.7244 - val_mse_func: 0.0171\n",
            "Epoch 61/100\n",
            "63/63 [==============================] - 3s 44ms/step - loss: -1.7930 - mse_func: 0.0139 - val_loss: 0.9275 - val_mse_func: 0.0169\n",
            "Epoch 62/100\n",
            "63/63 [==============================] - 3s 44ms/step - loss: -1.5797 - mse_func: 0.0151 - val_loss: -1.7160 - val_mse_func: 0.0183\n",
            "Epoch 63/100\n",
            "63/63 [==============================] - 3s 44ms/step - loss: -1.7058 - mse_func: 0.0142 - val_loss: -1.4034 - val_mse_func: 0.0154\n",
            "Epoch 64/100\n",
            "63/63 [==============================] - 3s 47ms/step - loss: -1.7506 - mse_func: 0.0137 - val_loss: -1.4536 - val_mse_func: 0.0252\n",
            "Epoch 65/100\n",
            "63/63 [==============================] - 3s 44ms/step - loss: -1.6741 - mse_func: 0.0139 - val_loss: -0.8049 - val_mse_func: 0.0245\n",
            "Epoch 66/100\n",
            "63/63 [==============================] - 3s 44ms/step - loss: -1.7251 - mse_func: 0.0142 - val_loss: -0.6877 - val_mse_func: 0.0080\n",
            "Epoch 67/100\n",
            "63/63 [==============================] - 3s 44ms/step - loss: -1.5830 - mse_func: 0.0138 - val_loss: -1.8967 - val_mse_func: 0.0181\n",
            "Epoch 68/100\n",
            "63/63 [==============================] - 3s 44ms/step - loss: -1.7295 - mse_func: 0.0143 - val_loss: -1.7112 - val_mse_func: 0.0204\n",
            "Epoch 69/100\n",
            "63/63 [==============================] - 3s 44ms/step - loss: -1.6756 - mse_func: 0.0139 - val_loss: -1.7130 - val_mse_func: 0.0166\n",
            "Epoch 70/100\n",
            "63/63 [==============================] - 3s 44ms/step - loss: -1.7981 - mse_func: 0.0140 - val_loss: -1.4248 - val_mse_func: 0.0173\n",
            "Epoch 71/100\n",
            "63/63 [==============================] - 3s 44ms/step - loss: -1.8133 - mse_func: 0.0141 - val_loss: -0.5922 - val_mse_func: 0.0280\n",
            "Epoch 72/100\n",
            "63/63 [==============================] - 3s 44ms/step - loss: -1.7584 - mse_func: 0.0140 - val_loss: -0.7512 - val_mse_func: 0.0138\n",
            "Epoch 73/100\n",
            "63/63 [==============================] - 3s 44ms/step - loss: -1.7934 - mse_func: 0.0142 - val_loss: -1.4548 - val_mse_func: 0.0202\n",
            "Epoch 74/100\n",
            "63/63 [==============================] - 3s 44ms/step - loss: -1.7553 - mse_func: 0.0143 - val_loss: -1.7750 - val_mse_func: 0.0178\n",
            "Epoch 75/100\n",
            "63/63 [==============================] - 3s 44ms/step - loss: -1.8516 - mse_func: 0.0140 - val_loss: -1.8680 - val_mse_func: 0.0169\n",
            "Epoch 76/100\n",
            "63/63 [==============================] - 3s 44ms/step - loss: -1.8050 - mse_func: 0.0143 - val_loss: -2.0539 - val_mse_func: 0.0170\n",
            "Epoch 77/100\n",
            "63/63 [==============================] - 3s 44ms/step - loss: -1.7670 - mse_func: 0.0137 - val_loss: -1.6337 - val_mse_func: 0.0195\n",
            "Epoch 78/100\n",
            "63/63 [==============================] - 3s 44ms/step - loss: -1.7490 - mse_func: 0.0137 - val_loss: -1.1649 - val_mse_func: 0.0269\n",
            "Epoch 79/100\n",
            "63/63 [==============================] - 3s 44ms/step - loss: -1.6707 - mse_func: 0.0139 - val_loss: -1.5657 - val_mse_func: 0.0127\n",
            "Epoch 80/100\n",
            "63/63 [==============================] - 3s 44ms/step - loss: -1.8329 - mse_func: 0.0138 - val_loss: -1.9126 - val_mse_func: 0.0189\n",
            "Epoch 81/100\n",
            "63/63 [==============================] - 3s 44ms/step - loss: -1.8653 - mse_func: 0.0140 - val_loss: -1.0081 - val_mse_func: 0.0146\n",
            "Epoch 82/100\n",
            "63/63 [==============================] - 3s 44ms/step - loss: -1.8060 - mse_func: 0.0139 - val_loss: -1.8656 - val_mse_func: 0.0170\n",
            "Epoch 83/100\n",
            "63/63 [==============================] - 3s 44ms/step - loss: -1.8239 - mse_func: 0.0140 - val_loss: -1.7197 - val_mse_func: 0.0166\n",
            "Epoch 84/100\n",
            "63/63 [==============================] - 3s 44ms/step - loss: -1.9099 - mse_func: 0.0136 - val_loss: -1.1784 - val_mse_func: 0.0181\n",
            "Epoch 85/100\n",
            "63/63 [==============================] - 3s 44ms/step - loss: -1.8113 - mse_func: 0.0138 - val_loss: -1.8305 - val_mse_func: 0.0183\n",
            "Epoch 86/100\n",
            "63/63 [==============================] - 3s 44ms/step - loss: -1.9465 - mse_func: 0.0140 - val_loss: -1.7998 - val_mse_func: 0.0188\n",
            "Epoch 87/100\n",
            "63/63 [==============================] - 3s 44ms/step - loss: -1.6886 - mse_func: 0.0141 - val_loss: -1.8053 - val_mse_func: 0.0204\n",
            "Epoch 88/100\n",
            "63/63 [==============================] - 3s 44ms/step - loss: -1.9255 - mse_func: 0.0136 - val_loss: -2.0169 - val_mse_func: 0.0171\n",
            "Epoch 89/100\n",
            "63/63 [==============================] - 3s 44ms/step - loss: -1.8056 - mse_func: 0.0142 - val_loss: -1.3302 - val_mse_func: 0.0142\n",
            "Epoch 90/100\n",
            "63/63 [==============================] - 3s 44ms/step - loss: -1.9189 - mse_func: 0.0134 - val_loss: -1.5722 - val_mse_func: 0.0154\n",
            "Epoch 91/100\n",
            "63/63 [==============================] - 3s 44ms/step - loss: -1.9253 - mse_func: 0.0137 - val_loss: -2.0206 - val_mse_func: 0.0178\n",
            "Epoch 92/100\n",
            "63/63 [==============================] - 3s 44ms/step - loss: -1.8684 - mse_func: 0.0140 - val_loss: -1.1115 - val_mse_func: 0.0140\n",
            "Epoch 93/100\n",
            "63/63 [==============================] - 3s 44ms/step - loss: -1.8893 - mse_func: 0.0136 - val_loss: -1.9460 - val_mse_func: 0.0173\n",
            "Epoch 94/100\n",
            "63/63 [==============================] - 3s 44ms/step - loss: -1.8987 - mse_func: 0.0139 - val_loss: -1.9259 - val_mse_func: 0.0182\n",
            "Epoch 95/100\n",
            "63/63 [==============================] - 3s 44ms/step - loss: -1.9703 - mse_func: 0.0134 - val_loss: -2.0289 - val_mse_func: 0.0176\n",
            "Epoch 96/100\n",
            "63/63 [==============================] - 3s 44ms/step - loss: -1.9380 - mse_func: 0.0137 - val_loss: -2.0987 - val_mse_func: 0.0180\n",
            "Epoch 97/100\n",
            "63/63 [==============================] - 3s 44ms/step - loss: -1.8667 - mse_func: 0.0139 - val_loss: -1.8560 - val_mse_func: 0.0177\n",
            "Epoch 98/100\n",
            "63/63 [==============================] - 3s 44ms/step - loss: -1.9550 - mse_func: 0.0136 - val_loss: -1.9546 - val_mse_func: 0.0192\n",
            "Epoch 99/100\n",
            "63/63 [==============================] - 3s 44ms/step - loss: -1.9013 - mse_func: 0.0137 - val_loss: -1.9072 - val_mse_func: 0.0179\n",
            "Epoch 100/100\n",
            "63/63 [==============================] - 3s 44ms/step - loss: -1.9897 - mse_func: 0.0138 - val_loss: -1.7596 - val_mse_func: 0.0232\n"
          ],
          "name": "stdout"
        }
      ]
    },
    {
      "cell_type": "markdown",
      "metadata": {
        "id": "BzyMrK3OLDaM"
      },
      "source": [
        "### Training and Validation Loss\n",
        "\n",
        "It's interesting to see how the model trained. We can see that after a certain point training is rather slow.\n",
        "\n"
      ]
    },
    {
      "cell_type": "code",
      "metadata": {
        "id": "sc1Osf5wLDaO",
        "colab": {
          "base_uri": "https://localhost:8080/",
          "height": 323
        },
        "outputId": "8c693843-4f89-4c0d-adc8-4aa1b763d122"
      },
      "source": [
        "plt.figure(figsize=(10, 5))\n",
        "#plt.ylim([0,0.02])\n",
        "plt.plot(history.history['mse_func'], label='mse_func' )\n",
        "plt.plot(history.history['val_mse_func'], label='val mse_func' )\n",
        "plt.legend(loc='upper right')\n",
        "plt.show()"
      ],
      "execution_count": 61,
      "outputs": [
        {
          "output_type": "display_data",
          "data": {
            "image/png": "[encoded data removed]",
            "text/plain": [
              "<Figure size 720x360 with 1 Axes>"
            ]
          },
          "metadata": {
            "tags": [],
            "needs_background": "light"
          }
        }
      ]
    },
    {
      "cell_type": "markdown",
      "metadata": {
        "id": "1_H0D1t9LDaT"
      },
      "source": [
        "## Sampling Functions\n",
        "\n",
        "The MDN model outputs parameters of a mixture model---a list of means (mu), variances (sigma), and weights (pi).\n",
        "\n",
        "The `mdn` module provides a function to sample from these parameters as follows. First the parameters are split up into `mu`s, `sigma`s and `pi`s, then the categorical distribution formed by the `pi`s is sampled to choose which mixture component should be sampled, then that component's `mu`s and `sigma`s is used to sample from a multivariate normal model, here's the code:\n",
        "\n",
        "    def sample_from_output(params, output_dim, num_mixes, temp=1.0):\n",
        "        \"\"\"Sample from an MDN output with temperature adjustment.\"\"\"\n",
        "        mus = params[:num_mixes*output_dim]\n",
        "        sigs = params[num_mixes*output_dim:2*num_mixes*output_dim]\n",
        "        pis = softmax(params[-num_mixes:], t=temp)\n",
        "        m = sample_from_categorical(pis)\n",
        "        # Alternative way to sample from categorical:\n",
        "        # m = np.random.choice(range(len(pis)), p=pis)\n",
        "        mus_vector = mus[m*output_dim:(m+1)*output_dim]\n",
        "        sig_vector = sigs[m*output_dim:(m+1)*output_dim] * temp  # adjust for temperature\n",
        "        cov_matrix = np.identity(output_dim) * sig_vector\n",
        "        sample = np.random.multivariate_normal(mus_vector, cov_matrix, 1)\n",
        "        return sample\n",
        "        \n",
        "If you only have one prediction to sample from, you can use the function as is; but if you need to sample from a lot of predictions at once (as in the following sections), you can use `np.apply_along_axis` to apply it to a whole numpy array of predicted parameters."
      ]
    },
    {
      "cell_type": "markdown",
      "metadata": {
        "id": "An3SY1HuLDaU"
      },
      "source": [
        "## Try out the MDN Model\n",
        "\n",
        "Now we try out the model by making predictions for some data points\n",
        "\n",
        "We're going to sample from these parameters for each point, and also try plotting the parameters themselves so we can have some insight into what the model is learning!"
      ]
    },
    {
      "cell_type": "code",
      "metadata": {
        "id": "if5UOTdkAwi-"
      },
      "source": [
        "# generate test data\n",
        "x_test, y_test = generate_data(NSAMPLE=NSAMPLE, scale=SCALE, rotation_range=0.01, rotation = 0.2)"
      ],
      "execution_count": 56,
      "outputs": []
    },
    {
      "cell_type": "code",
      "metadata": {
        "id": "XpfvXqp-LDaW"
      },
      "source": [
        "## Sample on some test data:\n",
        "\n",
        "\n",
        "# Make predictions from the model\n",
        "y_pred = model.predict(x_test)\n",
        "# y_test contains parameters for distributions, not actual points on the graph.\n",
        "# To find points on the graph, we need to sample from each distribution.\n",
        "\n",
        "\n",
        "# Sample from the predicted distributions\n",
        "y_samples = np.apply_along_axis(mdn.sample_from_output, 1, y_pred, 1, N_MIXES,temp=1.0)\n",
        "\n",
        "# Split up the mixture parameters (for future fun)\n",
        "mus = np.apply_along_axis((lambda a: a[:N_MIXES]),1, y_pred)\n",
        "sigs = np.apply_along_axis((lambda a: a[N_MIXES:2*N_MIXES]),1, y_pred)\n",
        "pis = np.apply_along_axis((lambda a: mdn.softmax(a[2*N_MIXES:])),1, y_pred)\n"
      ],
      "execution_count": 57,
      "outputs": []
    },
    {
      "cell_type": "code",
      "metadata": {
        "colab": {
          "base_uri": "https://localhost:8080/",
          "height": 623
        },
        "id": "VESVRp3XgXTu",
        "outputId": "c4ab7fdc-38da-4f6e-9889-8243a02a29d1"
      },
      "source": [
        "plt.figure(figsize=(5, 5))\n",
        "plt.hist(mus, density=True, bins=30,  alpha=0.5, label='mus') \n",
        "#plt.hist(pis, density=True, bins=30,  alpha=0.5, label='pis')\n",
        "plt.legend()\n",
        "plt.show()\n",
        "\n",
        "plt.figure(figsize=(5, 5))\n",
        "plt.hist(sigs, density=True, bins=30,  alpha=0.5, label='sigs')\n",
        "#plt.hist(pis, density=True, bins=30,  alpha=0.5, label='pis')\n",
        "plt.legend()\n",
        "plt.show()"
      ],
      "execution_count": 58,
      "outputs": [
        {
          "output_type": "display_data",
          "data": {
            "image/png": "[encoded data removed]",
            "text/plain": [
              "<Figure size 360x360 with 1 Axes>"
            ]
          },
          "metadata": {
            "tags": [],
            "needs_background": "light"
          }
        },
        {
          "output_type": "display_data",
          "data": {
            "image/png": "[encoded data removed]",
            "text/plain": [
              "<Figure size 360x360 with 1 Axes>"
            ]
          },
          "metadata": {
            "tags": [],
            "needs_background": "light"
          }
        }
      ]
    },
    {
      "cell_type": "code",
      "metadata": {
        "id": "J0A-p2mFLDae",
        "colab": {
          "base_uri": "https://localhost:8080/",
          "height": 963
        },
        "outputId": "53adadb4-3508-48b2-eebf-d172be0680bb"
      },
      "source": [
        "\n",
        "# Plot the samples\n",
        "plt.figure(figsize=(8, 8))\n",
        "plt.hist(y_data.reshape(NSAMPLE,1), density=True, bins=30,  alpha=0.5, label='training data') \n",
        "plt.hist(y_samples.reshape(NSAMPLE,1), density=True, bins=30,  alpha=0.5, label='samples') \n",
        "plt.hist(y_test.reshape(NSAMPLE,1), density=True, bins=30,  alpha=0.5, label='test data')\n",
        "#plt.hist(y_pred, density=True, bins=30,  alpha=0.5, label='predicted')\n",
        "plt.legend(loc='upper right')\n",
        "#plt.plot(x_data,y_data,'ro', x_test, y_samples[:,:,0], 'bo',alpha=0.3)\n",
        "plt.show()\n",
        "\n",
        "plt.figure(figsize=(8, 8))\n",
        "plt.scatter(y_test,y_samples)\n",
        "plt.xlabel(\"test hits\")\n",
        "plt.ylabel(\"sampled hits\")\n",
        "\n",
        "plt.show()"
      ],
      "execution_count": 59,
      "outputs": [
        {
          "output_type": "display_data",
          "data": {
            "image/png": "[encoded data removed]",
            "text/plain": [
              "<Figure size 576x576 with 1 Axes>"
            ]
          },
          "metadata": {
            "tags": [],
            "needs_background": "light"
          }
        },
        {
          "output_type": "display_data",
          "data": {
            "image/png": "[encoded data removed]",
            "text/plain": [
              "<Figure size 576x576 with 1 Axes>"
            ]
          },
          "metadata": {
            "tags": [],
            "needs_background": "light"
          }
        }
      ]
    }
  ]
}