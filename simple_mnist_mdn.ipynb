{
  "nbformat": 4,
  "nbformat_minor": 0,
  "metadata": {
    "colab": {
      "name": "simple_mnist_mdn",
      "provenance": [],
      "collapsed_sections": [],
      "toc_visible": true,
      "include_colab_link": true
    },
    "kernelspec": {
      "display_name": "Python 3",
      "language": "python",
      "name": "python3"
    },
    "language_info": {
      "codemirror_mode": {
        "name": "ipython",
        "version": 3
      },
      "file_extension": ".py",
      "mimetype": "text/x-python",
      "name": "python",
      "nbconvert_exporter": "python",
      "pygments_lexer": "ipython3",
      "version": "3.7.0"
    },
    "accelerator": "GPU"
  },
  "cells": [
    {
      "cell_type": "markdown",
      "metadata": {
        "id": "view-in-github",
        "colab_type": "text"
      },
      "source": [
        "<a href=\"https://colab.research.google.com/github/marcinwolter/DeepLearning_2020_private/blob/main/simple_mnist_mdn.ipynb\" target=\"_parent\"><img src=\"https://colab.research.google.com/assets/colab-badge.svg\" alt=\"Open In Colab\"/></a>"
      ]
    },
    {
      "cell_type": "markdown",
      "metadata": {
        "id": "fmh6SmeFajVS"
      },
      "source": [
        "# Simple MNIST dense net with Mixture Density Network\n",
        "\n",
        "Using on:\n",
        "https://keras.io/examples/vision/mnist_convnet/ "
      ]
    },
    {
      "cell_type": "markdown",
      "metadata": {
        "id": "-Jvn9yhlajWW"
      },
      "source": [
        "## Setup"
      ]
    },
    {
      "cell_type": "code",
      "metadata": {
        "id": "yjwP9GSZajWi"
      },
      "source": [
        "import numpy as np\n",
        "from tensorflow import keras\n",
        "from tensorflow.keras import layers\n",
        "\n",
        "import matplotlib.pyplot as plt\n"
      ],
      "execution_count": 132,
      "outputs": []
    },
    {
      "cell_type": "markdown",
      "metadata": {
        "id": "wlM6l6cCajWt"
      },
      "source": [
        "## Prepare the data"
      ]
    },
    {
      "cell_type": "code",
      "metadata": {
        "id": "8G4owrCqajWz",
        "colab": {
          "base_uri": "https://localhost:8080/"
        },
        "outputId": "eb4f94c6-75f7-4878-984d-0404ba20af1d"
      },
      "source": [
        "# Model / data parameters\n",
        "num_classes = 10\n",
        "input_shape = (28, 28, 1)\n",
        "\n",
        "# the data, split between train and test sets\n",
        "(x_train, y_train), (x_test, y_test) = keras.datasets.mnist.load_data()\n",
        "\n",
        "#Select 2 classes\n",
        "N_CLASSES = num_classes\n",
        "\n",
        "indices = np.where(y_train < N_CLASSES) # 3 classes only\n",
        "indices = indices[0]\n",
        "np.random.shuffle(indices)\n",
        "x_train = x_train[indices]\n",
        "y_train = y_train[indices]\n",
        "\n",
        "indices = np.where(y_test < N_CLASSES) # 3 classes only\n",
        "indices = indices[0]\n",
        "np.random.shuffle(indices)\n",
        "x_test = x_test[indices]\n",
        "y_test = y_test[indices]\n",
        "\n",
        "# Scale images to the [0, 1] range\n",
        "x_train = x_train.astype(\"float32\") / 255\n",
        "x_test = x_test.astype(\"float32\") / 255\n",
        "# Make sure images have shape (28, 28, 1)\n",
        "x_train = np.expand_dims(x_train, -1)\n",
        "x_test = np.expand_dims(x_test, -1)\n",
        "print(\"x_train shape:\", x_train.shape)\n",
        "print(x_train.shape[0], \"train samples\")\n",
        "print(x_test.shape[0], \"test samples\")\n",
        "\n",
        "\n",
        "# convert class vectors to binary class matrices\n",
        "y_train = keras.utils.to_categorical(y_train, num_classes)\n",
        "y_test = keras.utils.to_categorical(y_test, num_classes)"
      ],
      "execution_count": 133,
      "outputs": [
        {
          "output_type": "stream",
          "text": [
            "x_train shape: (60000, 28, 28, 1)\n",
            "60000 train samples\n",
            "10000 test samples\n"
          ],
          "name": "stdout"
        }
      ]
    },
    {
      "cell_type": "markdown",
      "metadata": {
        "id": "vTwL6goAYZ36"
      },
      "source": [
        "# **Install keras-mdn-layer**"
      ]
    },
    {
      "cell_type": "code",
      "metadata": {
        "id": "xemf-rMdbFos",
        "colab": {
          "base_uri": "https://localhost:8080/"
        },
        "outputId": "2045d3a5-74c9-4dd7-ba7e-663b27211e52"
      },
      "source": [
        "! pip install keras-mdn-layer\n",
        "import mdn"
      ],
      "execution_count": 134,
      "outputs": [
        {
          "output_type": "stream",
          "text": [
            "Requirement already satisfied: keras-mdn-layer in /usr/local/lib/python3.6/dist-packages (0.3.0)\n"
          ],
          "name": "stdout"
        }
      ]
    },
    {
      "cell_type": "markdown",
      "metadata": {
        "id": "rzjY4snPYihC"
      },
      "source": [
        "Parameters for MDN"
      ]
    },
    {
      "cell_type": "code",
      "metadata": {
        "id": "o_NeXX2IbOts"
      },
      "source": [
        "N_HIDDEN = 256  # number of hidden units in the Dense layer\n",
        "N_MIXES = 1  # number of mixture components\n",
        "OUTPUT_DIMS = num_classes  # number of real-values predicted by each mixture component\n"
      ],
      "execution_count": 135,
      "outputs": []
    },
    {
      "cell_type": "markdown",
      "metadata": {
        "id": "kpTxuNkXajW7"
      },
      "source": [
        "## Build the model"
      ]
    },
    {
      "cell_type": "code",
      "metadata": {
        "id": "d4b1oZ0vajXB",
        "colab": {
          "base_uri": "https://localhost:8080/"
        },
        "outputId": "d2ba9207-1576-478b-ca7d-180c819e0d25"
      },
      "source": [
        "model = keras.Sequential()\n",
        "model.add(keras.Input(shape=input_shape))\n",
        "model.add(layers.Flatten())\n",
        "model.add(layers.Dense(N_HIDDEN, activation=\"relu\"))\n",
        "model.add(layers.Dense(N_HIDDEN, activation=\"relu\"))\n",
        "model.add(layers.Dense(N_HIDDEN, activation=\"relu\"))\n",
        "\n",
        "model.add(mdn.MDN(OUTPUT_DIMS, N_MIXES))\n",
        "\n",
        "model.summary()"
      ],
      "execution_count": 136,
      "outputs": [
        {
          "output_type": "stream",
          "text": [
            "Model: \"sequential_12\"\n",
            "_________________________________________________________________\n",
            "Layer (type)                 Output Shape              Param #   \n",
            "=================================================================\n",
            "flatten_10 (Flatten)         (None, 784)               0         \n",
            "_________________________________________________________________\n",
            "dense_36 (Dense)             (None, 256)               200960    \n",
            "_________________________________________________________________\n",
            "dense_37 (Dense)             (None, 256)               65792     \n",
            "_________________________________________________________________\n",
            "dense_38 (Dense)             (None, 256)               65792     \n",
            "_________________________________________________________________\n",
            "mdn_12 (MDN)                 (None, 21)                5397      \n",
            "=================================================================\n",
            "Total params: 337,941\n",
            "Trainable params: 337,941\n",
            "Non-trainable params: 0\n",
            "_________________________________________________________________\n"
          ],
          "name": "stdout"
        }
      ]
    },
    {
      "cell_type": "markdown",
      "metadata": {
        "id": "HvJmnod6ajXE"
      },
      "source": [
        "## Train the model"
      ]
    },
    {
      "cell_type": "code",
      "metadata": {
        "id": "eHglMbLhajXI",
        "colab": {
          "base_uri": "https://localhost:8080/"
        },
        "outputId": "fc081709-1e60-4ee8-b16a-f5b3e4441e12"
      },
      "source": [
        "batch_size = 128\n",
        "epochs = 20\n",
        "\n",
        "# This was for normal dense network\n",
        "#model.compile(loss=\"categorical_crossentropy\", optimizer=\"adam\", metrics=[\"accuracy\"])\n",
        "model.compile(loss=mdn.get_mixture_loss_func(OUTPUT_DIMS,N_MIXES), optimizer=keras.optimizers.Adam())\n",
        "\n",
        "\n",
        "model.fit(x_train, y_train, batch_size=batch_size, epochs=epochs) #  validation_data=(x_test, y_test)) #validation_split=0.1)"
      ],
      "execution_count": 137,
      "outputs": [
        {
          "output_type": "stream",
          "text": [
            "Epoch 1/20\n",
            "469/469 [==============================] - 3s 4ms/step - loss: -6.5068\n",
            "Epoch 2/20\n",
            "469/469 [==============================] - 2s 4ms/step - loss: -15.3975\n",
            "Epoch 3/20\n",
            "469/469 [==============================] - 2s 4ms/step - loss: -18.7776\n",
            "Epoch 4/20\n",
            "469/469 [==============================] - 2s 4ms/step - loss: -19.4916\n",
            "Epoch 5/20\n",
            "469/469 [==============================] - 2s 4ms/step - loss: -21.7180\n",
            "Epoch 6/20\n",
            "469/469 [==============================] - 2s 4ms/step - loss: -22.6283\n",
            "Epoch 7/20\n",
            "469/469 [==============================] - 2s 4ms/step - loss: -25.8800\n",
            "Epoch 8/20\n",
            "469/469 [==============================] - 2s 4ms/step - loss: -23.1515\n",
            "Epoch 9/20\n",
            "469/469 [==============================] - 2s 4ms/step - loss: -27.2995\n",
            "Epoch 10/20\n",
            "469/469 [==============================] - 2s 4ms/step - loss: -28.1484\n",
            "Epoch 11/20\n",
            "469/469 [==============================] - 2s 4ms/step - loss: -28.8538\n",
            "Epoch 12/20\n",
            "469/469 [==============================] - 2s 4ms/step - loss: -27.0209\n",
            "Epoch 13/20\n",
            "469/469 [==============================] - 2s 4ms/step - loss: -31.4756\n",
            "Epoch 14/20\n",
            "469/469 [==============================] - 2s 4ms/step - loss: -33.7209\n",
            "Epoch 15/20\n",
            "469/469 [==============================] - 2s 4ms/step - loss: -26.2328\n",
            "Epoch 16/20\n",
            "469/469 [==============================] - 2s 4ms/step - loss: -30.4757\n",
            "Epoch 17/20\n",
            "469/469 [==============================] - 2s 4ms/step - loss: -29.7295\n",
            "Epoch 18/20\n",
            "469/469 [==============================] - 2s 4ms/step - loss: -33.5090\n",
            "Epoch 19/20\n",
            "469/469 [==============================] - 2s 4ms/step - loss: -32.0644\n",
            "Epoch 20/20\n",
            "469/469 [==============================] - 2s 4ms/step - loss: -34.1148\n"
          ],
          "name": "stdout"
        },
        {
          "output_type": "execute_result",
          "data": {
            "text/plain": [
              "<tensorflow.python.keras.callbacks.History at 0x7f377bd72470>"
            ]
          },
          "metadata": {
            "tags": []
          },
          "execution_count": 137
        }
      ]
    },
    {
      "cell_type": "markdown",
      "metadata": {
        "id": "7C7dsTO9ZHeT"
      },
      "source": [
        "# **Model prediction with MDN**"
      ]
    },
    {
      "cell_type": "code",
      "metadata": {
        "id": "syHuMw6wdGkO",
        "colab": {
          "base_uri": "https://localhost:8080/"
        },
        "outputId": "d49a238e-97c7-452e-aaec-dbd7997eae16"
      },
      "source": [
        "y_test_out = model.predict(x_test)\n",
        "\n",
        "# y_samples - output from MDN, contains all information\n",
        "y_samples = np.apply_along_axis(mdn.sample_from_output, 1, y_test_out, OUTPUT_DIMS, N_MIXES, temp=1.0)\n",
        "\n",
        "\n",
        "print(x_test.shape)\n",
        "print(y_test_out.shape)\n",
        "print(y_samples.shape)\n"
      ],
      "execution_count": 138,
      "outputs": [
        {
          "output_type": "stream",
          "text": [
            "(10000, 28, 28, 1)\n",
            "(10000, 21)\n",
            "(10000, 1, 10)\n"
          ],
          "name": "stdout"
        }
      ]
    },
    {
      "cell_type": "code",
      "metadata": {
        "id": "E2Nx4zG-dzDT"
      },
      "source": [
        "\n",
        "# Split up the mixture parameters (for future fun)\n",
        "# means of Gaussians\n",
        "mus = y_test_out[:,:N_MIXES*OUTPUT_DIMS]\n",
        "# sigmas of Gaussians\n",
        "sigs = y_test_out[:,N_MIXES*OUTPUT_DIMS:2*N_MIXES*OUTPUT_DIMS]\n",
        "#pis = mdn.softmax(y_test_out[:,-N_MIXES:], t=1.0)\n"
      ],
      "execution_count": 139,
      "outputs": []
    },
    {
      "cell_type": "code",
      "metadata": {
        "id": "iyjh_LG5jI-R"
      },
      "source": [
        "#print(y_samples)\n",
        "\n",
        "#print(y_test_out)\n",
        "#print(y_test[1:7])\n",
        "\n",
        "#print(mus)\n",
        "#print(sigs)\n"
      ],
      "execution_count": 140,
      "outputs": []
    },
    {
      "cell_type": "code",
      "metadata": {
        "id": "7Q3RrnD-4d5r",
        "colab": {
          "base_uri": "https://localhost:8080/",
          "height": 1000
        },
        "outputId": "bc0f1e5a-0ea5-4877-e02d-8fbd28753fee"
      },
      "source": [
        "# use the model to predict the labels of the test data\n",
        "\n",
        "\n",
        "\n",
        "# Plot the prediction\n",
        "fig = plt.figure(figsize=(8, 30))  # figure size in inches\n",
        "fig.subplots_adjust(left=0, right=1, bottom=0, top=1, hspace=0.05, wspace=0.05)\n",
        "\n",
        "\n",
        "# plot the digits: each image is 28x28 pixels\n",
        "n_img=30\n",
        "for i in range(n_img):\n",
        "    ax = fig.add_subplot(n_img, 3, 3*i + 1, xticks=[], yticks=[])\n",
        "    ax.imshow(x_test[i].reshape(28,28), cmap=plt.cm.binary, interpolation='nearest')\n",
        "\n",
        "    ax = fig.add_subplot(n_img, 3, 3*i + 2, xticks=[0,1,2,3,4,5,6,7,8,9], yticks=[])\n",
        "    xbar = np.linspace(1, OUTPUT_DIMS, num=OUTPUT_DIMS)\n",
        "    ax.bar(xbar,mus[i],yerr=sigs[i],xerr=0.3,)\n",
        "    ax.axis('off')\n",
        "\n",
        "    ax = fig.add_subplot(n_img, 3, 3*i + 3, xticks=[0,1,2,3,4,5,6,7,8,9], yticks=[])\n",
        "    xbar = np.linspace(1, OUTPUT_DIMS, num=OUTPUT_DIMS)\n",
        "    ax.bar(xbar,y_test[i],yerr=0.0,xerr=0.3)\n",
        "    ax.axis('off')\n",
        "\n",
        "    #print(mus[i])\n",
        "    #print(sigs[i])\n",
        "    #print(pis[i])\n",
        "\n",
        "    "
      ],
      "execution_count": 143,
      "outputs": [
        {
          "output_type": "display_data",
          "data": {
            "image/png": "[encoded data removed]",
            "text/plain": [
              "<Figure size 576x2160 with 90 Axes>"
            ]
          },
          "metadata": {
            "tags": [],
            "needs_background": "light"
          }
        }
      ]
    }
  ]
}